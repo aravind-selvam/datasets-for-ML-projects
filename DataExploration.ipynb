{
 "cells": [
  {
   "cell_type": "markdown",
   "metadata": {},
   "source": [
    "#                                Scania APS Component failure prediction"
   ]
  },
  {
   "cell_type": "markdown",
   "metadata": {},
   "source": [
    "## 1) Problem statement.\n",
    "\n",
    "Data Source: https://archive.ics.uci.edu/ml/datasets/APS+Failure+at+Scania+Trucks\n",
    "\n",
    "**Data:** Scania Trucks Sensor data\n",
    "\n",
    "**Problem statement :**\n",
    "- The system in focus is the Air Pressure system (APS) which generates pressurized air that are utilized in various functions in a truck, such as braking and gear changes. The datasets positive class corresponds to component failures for a specific component of the APS system. The negative class corresponds to trucks with failures for components not related to the APS system.\n",
    "\n",
    "- The problem is to reduce the cost due to unnecessary repairs. So it is required to minimize the false predictions."
   ]
  },
  {
   "cell_type": "markdown",
   "metadata": {},
   "source": [
    "|True class | Positive | Negative ||\n",
    "| ----------- | ----------- |   |  |\n",
    "|<b>Predicted class</b>|||\n",
    "| Positive      |   -       | cost_1  |    |\n",
    "| Negative   | cost_2        |  | |\n",
    "\n",
    "\n",
    "Cost_1 = 10 and Cost_2 = 500"
   ]
  },
  {
   "cell_type": "markdown",
   "metadata": {},
   "source": [
    "- The total cost of a prediction model the sum of `Cost_1` multiplied by the number of Instances with type 1 failure and `Cost_2` with the number of instances with type 2 failure, resulting in a `Total_cost`. In this case Cost_1 refers to the cost that an unnessecary check needs to be done by an mechanic at an workshop, while Cost_2 refer to the cost of missing a faulty truck, which may cause a breakdown. `Total_cost = Cost_1 * No_Instances + Cost_2 * No_Instances.`\n",
    "\n",
    "- From the above problem statement we could observe that, we have to reduce false positives and false negatives. More importantly we have to **reduce false negatives, since cost incurred due to false negative is 50 times higher than the false positives.**"
   ]
  },
  {
   "cell_type": "markdown",
   "metadata": {},
   "source": [
    "## Challenges and other objectives\n",
    "\n",
    "- Need to Handle many Null values in almost all columns\n",
    "- No low-latency requirement.\n",
    "- Interpretability is not important.\n",
    "- misclassification leads the unecessary repair costs."
   ]
  },
  {
   "cell_type": "markdown",
   "metadata": {},
   "source": [
    "## 2) Import required libraries"
   ]
  },
  {
   "cell_type": "code",
   "execution_count": 61,
   "metadata": {},
   "outputs": [],
   "source": [
    "import pandas as pd\n",
    "import seaborn as sns\n",
    "import numpy as np\n",
    "import matplotlib.pyplot as plt\n",
    "import warnings\n",
    "from sklearn.preprocessing import PowerTransformer\n",
    "import numpy as np\n",
    "from sklearn.preprocessing import LabelEncoder\n",
    "from sklearn.pipeline import Pipeline\n",
    "from sklearn.utils import resample\n",
    "\n",
    "from sklearn.ensemble import RandomForestClassifier, AdaBoostClassifier, GradientBoostingClassifier\n",
    "from sklearn.linear_mode\n",
    "from sklearn.neighbors import KNeighborsClassifier\n",
    "from sklearn.tree import DecisionTreeClassifier\n",
    "from sklearn.svm import SVC\n",
    "from sklearn.metrics import accuracy_score, classification_report,ConfusionMatrixDisplay, \\\n",
    "                            precision_score, recall_score, f1_score, roc_auc_score,roc_curve,confusion_matrix\n",
    "\n",
    "\n",
    "from sklearn import metrics \n",
    "from sklearn.model_selection import  train_test_split\n",
    "from sklearn.preprocessing import OneHotEncoder, StandardScaler\n",
    "from sklearn.compose import ColumnTransformer\n",
    "from sklearn.impute import SimpleImputer\n",
    "from xgboost import XGBClassifier\n",
    "from catboost import CatBoostClassifier\n",
    "\n",
    "warnings.filterwarnings(\"ignore\")\n",
    "%matplotlib inline"
   ]
  },
  {
   "cell_type": "markdown",
   "metadata": {},
   "source": [
    "### Read Data"
   ]
  },
  {
   "cell_type": "code",
   "execution_count": 2,
   "metadata": {},
   "outputs": [],
   "source": [
    "df = pd.read_csv(r'D:\\iNeuron\\Data Squad\\ML-Projects\\Scania Truck Air pressure\\aps_failure_training_set.csv', na_values=\"na\")"
   ]
  },
  {
   "cell_type": "code",
   "execution_count": 3,
   "metadata": {},
   "outputs": [
    {
     "data": {
      "text/plain": [
       "(60000, 171)"
      ]
     },
     "execution_count": 3,
     "metadata": {},
     "output_type": "execute_result"
    }
   ],
   "source": [
    "df.shape"
   ]
  },
  {
   "cell_type": "code",
   "execution_count": 4,
   "metadata": {},
   "outputs": [
    {
     "data": {
      "text/plain": [
       "neg    59000\n",
       "pos     1000\n",
       "Name: class, dtype: int64"
      ]
     },
     "execution_count": 4,
     "metadata": {},
     "output_type": "execute_result"
    }
   ],
   "source": [
    "df['class'].value_counts()"
   ]
  },
  {
   "cell_type": "code",
   "execution_count": 5,
   "metadata": {},
   "outputs": [
    {
     "name": "stdout",
     "output_type": "stream",
     "text": [
      "We have 170 numerical features : ['aa_000', 'ab_000', 'ac_000', 'ad_000', 'ae_000', 'af_000', 'ag_000', 'ag_001', 'ag_002', 'ag_003', 'ag_004', 'ag_005', 'ag_006', 'ag_007', 'ag_008', 'ag_009', 'ah_000', 'ai_000', 'aj_000', 'ak_000', 'al_000', 'am_0', 'an_000', 'ao_000', 'ap_000', 'aq_000', 'ar_000', 'as_000', 'at_000', 'au_000', 'av_000', 'ax_000', 'ay_000', 'ay_001', 'ay_002', 'ay_003', 'ay_004', 'ay_005', 'ay_006', 'ay_007', 'ay_008', 'ay_009', 'az_000', 'az_001', 'az_002', 'az_003', 'az_004', 'az_005', 'az_006', 'az_007', 'az_008', 'az_009', 'ba_000', 'ba_001', 'ba_002', 'ba_003', 'ba_004', 'ba_005', 'ba_006', 'ba_007', 'ba_008', 'ba_009', 'bb_000', 'bc_000', 'bd_000', 'be_000', 'bf_000', 'bg_000', 'bh_000', 'bi_000', 'bj_000', 'bk_000', 'bl_000', 'bm_000', 'bn_000', 'bo_000', 'bp_000', 'bq_000', 'br_000', 'bs_000', 'bt_000', 'bu_000', 'bv_000', 'bx_000', 'by_000', 'bz_000', 'ca_000', 'cb_000', 'cc_000', 'cd_000', 'ce_000', 'cf_000', 'cg_000', 'ch_000', 'ci_000', 'cj_000', 'ck_000', 'cl_000', 'cm_000', 'cn_000', 'cn_001', 'cn_002', 'cn_003', 'cn_004', 'cn_005', 'cn_006', 'cn_007', 'cn_008', 'cn_009', 'co_000', 'cp_000', 'cq_000', 'cr_000', 'cs_000', 'cs_001', 'cs_002', 'cs_003', 'cs_004', 'cs_005', 'cs_006', 'cs_007', 'cs_008', 'cs_009', 'ct_000', 'cu_000', 'cv_000', 'cx_000', 'cy_000', 'cz_000', 'da_000', 'db_000', 'dc_000', 'dd_000', 'de_000', 'df_000', 'dg_000', 'dh_000', 'di_000', 'dj_000', 'dk_000', 'dl_000', 'dm_000', 'dn_000', 'do_000', 'dp_000', 'dq_000', 'dr_000', 'ds_000', 'dt_000', 'du_000', 'dv_000', 'dx_000', 'dy_000', 'dz_000', 'ea_000', 'eb_000', 'ec_00', 'ed_000', 'ee_000', 'ee_001', 'ee_002', 'ee_003', 'ee_004', 'ee_005', 'ee_006', 'ee_007', 'ee_008', 'ee_009', 'ef_000', 'eg_000']\n",
      "\n",
      "We have 1 categorical features : ['class']\n"
     ]
    }
   ],
   "source": [
    "# define numerical & categorical columns\n",
    "numeric_features = [feature for feature in df.columns if df[feature].dtype != 'O']\n",
    "categorical_features = [feature for feature in df.columns if df[feature].dtype == 'O']\n",
    "\n",
    "# print columns\n",
    "print('We have {} numerical features : {}'.format(len(numeric_features), numeric_features))\n",
    "print('\\nWe have {} categorical features : {}'.format(len(categorical_features), categorical_features))"
   ]
  },
  {
   "cell_type": "code",
   "execution_count": 7,
   "metadata": {},
   "outputs": [
    {
     "data": {
      "image/png": "[encoded data removed]",
      "text/plain": [
       "<Figure size 1080x360 with 1 Axes>"
      ]
     },
     "metadata": {
      "needs_background": "light"
     },
     "output_type": "display_data"
    }
   ],
   "source": [
    "fig, ax = plt.subplots(figsize=(15,5))\n",
    "\n",
    "missing = df.isna().sum().div(df.shape[0]).mul(100).to_frame().sort_values(by=0, ascending = False)\n",
    "\n",
    "ax.bar(missing.index, missing.values.T[0])\n",
    "plt.xticks([])\n",
    "plt.ylabel(\"Percentage missing\")\n",
    "plt.show()"
   ]
  },
  {
   "cell_type": "code",
   "execution_count": 8,
   "metadata": {
    "scrolled": true
   },
   "outputs": [
    {
     "data": {
      "text/html": [
       "<div>\n",
       "<style scoped>\n",
       "    .dataframe tbody tr th:only-of-type {\n",
       "        vertical-align: middle;\n",
       "    }\n",
       "\n",
       "    .dataframe tbody tr th {\n",
       "        vertical-align: top;\n",
       "    }\n",
       "\n",
       "    .dataframe thead th {\n",
       "        text-align: right;\n",
       "    }\n",
       "</style>\n",
       "<table border=\"1\" class=\"dataframe\">\n",
       "  <thead>\n",
       "    <tr style=\"text-align: right;\">\n",
       "      <th></th>\n",
       "      <th>0</th>\n",
       "    </tr>\n",
       "  </thead>\n",
       "  <tbody>\n",
       "    <tr>\n",
       "      <th>br_000</th>\n",
       "      <td>82.106667</td>\n",
       "    </tr>\n",
       "    <tr>\n",
       "      <th>bq_000</th>\n",
       "      <td>81.203333</td>\n",
       "    </tr>\n",
       "    <tr>\n",
       "      <th>bp_000</th>\n",
       "      <td>79.566667</td>\n",
       "    </tr>\n",
       "    <tr>\n",
       "      <th>bo_000</th>\n",
       "      <td>77.221667</td>\n",
       "    </tr>\n",
       "    <tr>\n",
       "      <th>ab_000</th>\n",
       "      <td>77.215000</td>\n",
       "    </tr>\n",
       "    <tr>\n",
       "      <th>cr_000</th>\n",
       "      <td>77.215000</td>\n",
       "    </tr>\n",
       "    <tr>\n",
       "      <th>bn_000</th>\n",
       "      <td>73.348333</td>\n",
       "    </tr>\n",
       "  </tbody>\n",
       "</table>\n",
       "</div>"
      ],
      "text/plain": [
       "                0\n",
       "br_000  82.106667\n",
       "bq_000  81.203333\n",
       "bp_000  79.566667\n",
       "bo_000  77.221667\n",
       "ab_000  77.215000\n",
       "cr_000  77.215000\n",
       "bn_000  73.348333"
      ]
     },
     "execution_count": 8,
     "metadata": {},
     "output_type": "execute_result"
    }
   ],
   "source": [
    "dropcols = missing[missing[0]>70]\n",
    "dropcols"
   ]
  },
  {
   "cell_type": "code",
   "execution_count": 15,
   "metadata": {},
   "outputs": [],
   "source": [
    "df.drop(list(dropcols.index), axis=1, inplace=True)"
   ]
  },
  {
   "cell_type": "code",
   "execution_count": 16,
   "metadata": {},
   "outputs": [
    {
     "data": {
      "text/plain": [
       "(60000, 164)"
      ]
     },
     "execution_count": 16,
     "metadata": {},
     "output_type": "execute_result"
    }
   ],
   "source": [
    "df.shape"
   ]
  },
  {
   "cell_type": "code",
   "execution_count": 48,
   "metadata": {},
   "outputs": [
    {
     "data": {
      "text/plain": [
       "neg    59000\n",
       "pos     1000\n",
       "Name: class, dtype: int64"
      ]
     },
     "execution_count": 48,
     "metadata": {},
     "output_type": "execute_result"
    }
   ],
   "source": [
    "df['class'].value_counts()"
   ]
  },
  {
   "cell_type": "code",
   "execution_count": 50,
   "metadata": {},
   "outputs": [
    {
     "name": "stdout",
     "output_type": "stream",
     "text": [
      "Positive: 1000, Negative: 59000\n"
     ]
    },
    {
     "data": {
      "image/png": "[encoded data removed]",
      "text/plain": [
       "<Figure size 360x360 with 1 Axes>"
      ]
     },
     "metadata": {
      "needs_background": "light"
     },
     "output_type": "display_data"
    }
   ],
   "source": [
    "pos = df[df['class']=='pos'].shape[0]\n",
    "neg = df[df['class']=='neg'].shape[0]\n",
    "print(\"Positive: \" + str(pos) + \", Negative: \" + str(neg))\n",
    "sns.catplot(data=df, x=\"class\", kind=\"count\", palette=\"winter_r\", alpha=.6)\n",
    "plt.show()"
   ]
  },
  {
   "cell_type": "markdown",
   "metadata": {},
   "source": [
    "# imputation"
   ]
  },
  {
   "cell_type": "code",
   "execution_count": 62,
   "metadata": {},
   "outputs": [],
   "source": [
    "def total_cost(test_y, predict_y):\n",
    "    '''\n",
    "    This function takes y_ture, y_predicted, and prints Total cost due to misclassification\n",
    "   \n",
    "    '''\n",
    "    C = confusion_matrix(test_y, predict_y)\n",
    "    cost_1 = 10*C[0][1]\n",
    "    cost_2 = 500*C[1][0]\n",
    "    total = (cost_1 + cost_2)\n",
    "    return total"
   ]
  },
  {
   "cell_type": "code",
   "execution_count": 18,
   "metadata": {},
   "outputs": [
    {
     "data": {
      "text/plain": [
       "5.29765243902439"
      ]
     },
     "execution_count": 18,
     "metadata": {},
     "output_type": "execute_result"
    }
   ],
   "source": [
    "missing_values_count= df.isnull().sum()\n",
    "total_cells = np.product(df.shape)\n",
    "total_missing = missing_values_count.sum()\n",
    "\n",
    "# percent of data that is missing\n",
    "(total_missing/total_cells) * 100"
   ]
  },
  {
   "cell_type": "code",
   "execution_count": 19,
   "metadata": {},
   "outputs": [
    {
     "data": {
      "text/plain": [
       "9840000"
      ]
     },
     "execution_count": 19,
     "metadata": {},
     "output_type": "execute_result"
    }
   ],
   "source": [
    "total_cells"
   ]
  },
  {
   "cell_type": "code",
   "execution_count": 20,
   "metadata": {},
   "outputs": [
    {
     "data": {
      "text/plain": [
       "521289"
      ]
     },
     "execution_count": 20,
     "metadata": {},
     "output_type": "execute_result"
    }
   ],
   "source": [
    "total_missing"
   ]
  },
  {
   "cell_type": "code",
   "execution_count": 51,
   "metadata": {},
   "outputs": [],
   "source": [
    "X= df.drop('class', axis=1)\n",
    "y = df['class']"
   ]
  },
  {
   "cell_type": "code",
   "execution_count": 52,
   "metadata": {},
   "outputs": [],
   "source": [
    "from sklearn.impute import KNNImputer\n",
    "knn = KNNImputer(n_neighbors = 3)\n",
    "data = knn.fit_transform(X)"
   ]
  },
  {
   "cell_type": "code",
   "execution_count": 53,
   "metadata": {
    "scrolled": true
   },
   "outputs": [],
   "source": [
    "y= y.replace({'pos': 1, 'neg': 0})"
   ]
  },
  {
   "cell_type": "code",
   "execution_count": 54,
   "metadata": {},
   "outputs": [],
   "source": [
    "from imblearn.combine import SMOTETomek\n",
    "\n",
    "# Resampling the minority class. The strategy can be changed as required.\n",
    "smt = SMOTETomek(random_state=42,sampling_strategy='minority' )\n",
    "# Fit the model to generate the data.\n",
    "X_res, y_res = smt.fit_resample(data, y)"
   ]
  },
  {
   "cell_type": "code",
   "execution_count": 58,
   "metadata": {},
   "outputs": [
    {
     "data": {
      "text/plain": [
       "((94392, 163), (23598, 163))"
      ]
     },
     "execution_count": 58,
     "metadata": {},
     "output_type": "execute_result"
    }
   ],
   "source": [
    "# separate dataset into train and test\n",
    "X_train, X_test, y_train, y_test = train_test_split(X_res,y_res,test_size=0.2,random_state=42)\n",
    "X_train.shape, X_test.shape"
   ]
  },
  {
   "cell_type": "code",
   "execution_count": 59,
   "metadata": {},
   "outputs": [],
   "source": [
    "def evaluate_clf(true, predicted):\n",
    "    acc = accuracy_score(true, predicted) # Calculate Accuracy\n",
    "    f1 = f1_score(true, predicted) # Calculate F1-score\n",
    "    precision = precision_score(true, predicted) # Calculate Precision\n",
    "    recall = recall_score(true, predicted)  # Calculate Recall\n",
    "    roc_auc = roc_auc_score(true, predicted) #Calculate Roc\n",
    "    return acc, f1 , precision, recall, roc_auc"
   ]
  },
  {
   "cell_type": "code",
   "execution_count": null,
   "metadata": {},
   "outputs": [],
   "source": [
    "models = {\n",
    "    \"Random Forest\": RandomForestClassifier(),\n",
    "    \"Decision Tree\": DecisionTreeClassifier(),\n",
    "    \"Gradient Boosting\": GradientBoostingClassifier(),\n",
    "    \"Logistic Regression\": LogisticRegression(),\n",
    "     \"K-Neighbors Classifier\": KNeighborsClassifier(),\n",
    "    \"XGBClassifier\": XGBClassifier(), \n",
    "     \"CatBoosting Classifier\": CatBoostClassifier(verbose=False),\n",
    "     \"Support Vector Classifier\": SVC(),\n",
    "    \"AdaBoost Classifier\": AdaBoostClassifier()\n",
    "}"
   ]
  },
  {
   "cell_type": "code",
   "execution_count": 63,
   "metadata": {
    "scrolled": false
   },
   "outputs": [
    {
     "name": "stdout",
     "output_type": "stream",
     "text": [
      "Random Forest\n",
      "Model performance for Training set\n",
      "- Accuracy: 1.0000\n",
      "- F1 score: 1.0000\n",
      "- Precision: 1.0000\n",
      "- Recall: 1.0000\n",
      "- Roc Auc Score: 1.0000\n",
      "- COST: 0.\n",
      "----------------------------------\n",
      "Model performance for Test set\n",
      "- Accuracy: 0.9959\n",
      "- F1 score: 0.9958\n",
      "- Precision: 0.9924\n",
      "- Recall: 0.9993\n",
      "- Roc Auc Score: 0.9959\n",
      "- COST: 4890.\n",
      "===================================\n",
      "\n",
      "\n",
      "Decision Tree\n",
      "Model performance for Training set\n",
      "- Accuracy: 1.0000\n",
      "- F1 score: 1.0000\n",
      "- Precision: 1.0000\n",
      "- Recall: 1.0000\n",
      "- Roc Auc Score: 1.0000\n",
      "- COST: 0.\n",
      "----------------------------------\n",
      "Model performance for Test set\n",
      "- Accuracy: 0.9917\n",
      "- F1 score: 0.9916\n",
      "- Precision: 0.9878\n",
      "- Recall: 0.9955\n",
      "- Roc Auc Score: 0.9918\n",
      "- COST: 27430.\n",
      "===================================\n",
      "\n",
      "\n",
      "Gradient Boosting\n",
      "Model performance for Training set\n",
      "- Accuracy: 0.9849\n",
      "- F1 score: 0.9850\n",
      "- Precision: 0.9820\n",
      "- Recall: 0.9879\n",
      "- Roc Auc Score: 0.9848\n",
      "- COST: 295070.\n",
      "----------------------------------\n",
      "Model performance for Test set\n",
      "- Accuracy: 0.9842\n",
      "- F1 score: 0.9840\n",
      "- Precision: 0.9795\n",
      "- Recall: 0.9885\n",
      "- Roc Auc Score: 0.9843\n",
      "- COST: 68900.\n",
      "===================================\n",
      "\n",
      "\n",
      "Logistic Regression\n",
      "Model performance for Training set\n",
      "- Accuracy: 0.9486\n",
      "- F1 score: 0.9479\n",
      "- Precision: 0.9651\n",
      "- Recall: 0.9314\n",
      "- Roc Auc Score: 0.9487\n",
      "- COST: 1641470.\n",
      "----------------------------------\n",
      "Model performance for Test set\n",
      "- Accuracy: 0.9491\n",
      "- F1 score: 0.9474\n",
      "- Precision: 0.9639\n",
      "- Recall: 0.9314\n",
      "- Roc Auc Score: 0.9488\n",
      "- COST: 402050.\n",
      "===================================\n",
      "\n",
      "\n",
      "K-Neighbors Classifier\n",
      "Model performance for Training set\n",
      "- Accuracy: 0.9882\n",
      "- F1 score: 0.9884\n",
      "- Precision: 0.9775\n",
      "- Recall: 0.9996\n",
      "- Roc Auc Score: 0.9882\n",
      "- COST: 20900.\n",
      "----------------------------------\n",
      "Model performance for Test set\n",
      "- Accuracy: 0.9839\n",
      "- F1 score: 0.9839\n",
      "- Precision: 0.9690\n",
      "- Recall: 0.9992\n",
      "- Roc Auc Score: 0.9841\n",
      "- COST: 8210.\n",
      "===================================\n",
      "\n",
      "\n",
      "XGBClassifier\n",
      "Model performance for Training set\n",
      "- Accuracy: 1.0000\n",
      "- F1 score: 1.0000\n",
      "- Precision: 1.0000\n",
      "- Recall: 1.0000\n",
      "- Roc Auc Score: 1.0000\n",
      "- COST: 0.\n",
      "----------------------------------\n",
      "Model performance for Test set\n",
      "- Accuracy: 0.9969\n",
      "- F1 score: 0.9969\n",
      "- Precision: 0.9945\n",
      "- Recall: 0.9992\n",
      "- Roc Auc Score: 0.9969\n",
      "- COST: 5140.\n",
      "===================================\n",
      "\n",
      "\n",
      "CatBoosting Classifier\n",
      "Model performance for Training set\n",
      "- Accuracy: 0.9991\n",
      "- F1 score: 0.9991\n",
      "- Precision: 0.9988\n",
      "- Recall: 0.9995\n",
      "- Roc Auc Score: 0.9991\n",
      "- COST: 13590.\n",
      "----------------------------------\n",
      "Model performance for Test set\n",
      "- Accuracy: 0.9956\n",
      "- F1 score: 0.9955\n",
      "- Precision: 0.9924\n",
      "- Recall: 0.9986\n",
      "- Roc Auc Score: 0.9956\n",
      "- COST: 8890.\n",
      "===================================\n",
      "\n",
      "\n",
      "Support Vector Classifier\n",
      "Model performance for Training set\n",
      "- Accuracy: 0.9432\n",
      "- F1 score: 0.9431\n",
      "- Precision: 0.9497\n",
      "- Recall: 0.9365\n",
      "- Roc Auc Score: 0.9433\n",
      "- COST: 1527500.\n",
      "----------------------------------\n",
      "Model performance for Test set\n",
      "- Accuracy: 0.9440\n",
      "- F1 score: 0.9428\n",
      "- Precision: 0.9470\n",
      "- Recall: 0.9386\n",
      "- Roc Auc Score: 0.9439\n",
      "- COST: 362100.\n",
      "===================================\n",
      "\n",
      "\n",
      "AdaBoost Classifier\n",
      "Model performance for Training set\n",
      "- Accuracy: 0.9761\n",
      "- F1 score: 0.9762\n",
      "- Precision: 0.9770\n",
      "- Recall: 0.9754\n",
      "- Roc Auc Score: 0.9761\n",
      "- COST: 593370.\n",
      "----------------------------------\n",
      "Model performance for Test set\n",
      "- Accuracy: 0.9756\n",
      "- F1 score: 0.9752\n",
      "- Precision: 0.9749\n",
      "- Recall: 0.9755\n",
      "- Roc Auc Score: 0.9756\n",
      "- COST: 144910.\n",
      "===================================\n",
      "\n",
      "\n"
     ]
    }
   ],
   "source": [
    "def model_train_evaluation(models_dictionary):\n",
    "    cost_list=[]\n",
    "    models_list = []\n",
    "    \n",
    "    for i in range(len(list(models_dictionary))):\n",
    "        model = list(models_dictionary.values())[i]\n",
    "        model.fit(X_train, y_train) # Train model\n",
    "\n",
    "        # Make predictions\n",
    "        y_train_pred = model.predict(X_train)\n",
    "        y_test_pred = model.predict(X_test)\n",
    "\n",
    "        # Training set performance\n",
    "        model_train_accuracy, model_train_f1,model_train_precision,\\\n",
    "        model_train_recall,model_train_rocauc_score=evaluate_clf(y_train ,y_train_pred)\n",
    "        train_cost = total_cost(y_train, y_train_pred)\n",
    "\n",
    "\n",
    "        # Test set performance\n",
    "        model_test_accuracy,model_test_f1,model_test_precision,\\\n",
    "        model_test_recall,model_test_rocauc_score=evaluate_clf(y_test, y_test_pred)\n",
    "        test_cost = total_cost(y_test, y_test_pred)\n",
    "\n",
    "        print(list(models_dictionary.keys())[i])\n",
    "        models_list.append(list(models_dictionary.keys())[i])\n",
    "\n",
    "        print('Model performance for Training set')\n",
    "        print(\"- Accuracy: {:.4f}\".format(model_train_accuracy))\n",
    "        print('- F1 score: {:.4f}'.format(model_train_f1)) \n",
    "        print('- Precision: {:.4f}'.format(model_train_precision))\n",
    "        print('- Recall: {:.4f}'.format(model_train_recall))\n",
    "        print('- Roc Auc Score: {:.4f}'.format(model_train_rocauc_score))\n",
    "        print(f'- COST: {train_cost}.')\n",
    "\n",
    "        print('----------------------------------')\n",
    "\n",
    "        print('Model performance for Test set')\n",
    "        print('- Accuracy: {:.4f}'.format(model_test_accuracy))\n",
    "        print('- F1 score: {:.4f}'.format(model_test_f1))\n",
    "        print('- Precision: {:.4f}'.format(model_test_precision))\n",
    "        print('- Recall: {:.4f}'.format(model_test_recall))\n",
    "        print('- Roc Auc Score: {:.4f}'.format(model_test_rocauc_score))\n",
    "        print(f'- COST: {test_cost}.')\n",
    "        accuracy_list.append(model_test_accuracy)\n",
    "        print('='*35)\n",
    "        print('\\n')\n",
    "        \n",
    "        report=pd.DataFrame(list(zip(models_list, accuracy_list)), columns=['Model Name', 'Cost']).sort_values(by=[\"Cost\"])\n",
    "        \n",
    "        return report"
   ]
  },
  {
   "cell_type": "markdown",
   "metadata": {},
   "source": [
    "## after scaling"
   ]
  },
  {
   "cell_type": "code",
   "execution_count": 73,
   "metadata": {},
   "outputs": [],
   "source": [
    "num_features = X.select_dtypes(exclude=\"object\").columns\n",
    "\n",
    "from sklearn.preprocessing import StandardScaler, MinMaxScaler\n",
    "from sklearn.compose import ColumnTransformer\n",
    "\n",
    "\n",
    "pipeline = Pipeline(steps=[\n",
    "    ('imputer', SimpleImputer(strategy='median')),\n",
    "    ('scaler', MinMaxScaler())\n",
    "])"
   ]
  },
  {
   "cell_type": "code",
   "execution_count": 74,
   "metadata": {},
   "outputs": [],
   "source": [
    "data1 =pipeline.fit_transform(X)"
   ]
  },
  {
   "cell_type": "code",
   "execution_count": 75,
   "metadata": {},
   "outputs": [
    {
     "data": {
      "text/plain": [
       "array([[2.79250729e-02, 9.99999832e-01, 3.26176944e-08, ...,\n",
       "        0.00000000e+00, 0.00000000e+00, 0.00000000e+00],\n",
       "       [1.20361295e-02, 0.00000000e+00, 1.46779625e-08, ...,\n",
       "        3.93692728e-04, 0.00000000e+00, 0.00000000e+00],\n",
       "       [1.49423061e-02, 1.07006746e-07, 1.16491766e-08, ...,\n",
       "        1.34905375e-04, 0.00000000e+00, 0.00000000e+00],\n",
       "       ...,\n",
       "       [4.07782233e-05, 9.99999829e-01, 2.09685178e-09, ...,\n",
       "        0.00000000e+00, 0.00000000e+00, 0.00000000e+00],\n",
       "       [2.92336170e-02, 9.99999829e-01, 5.75469322e-08, ...,\n",
       "        1.01945944e-01, 0.00000000e+00, 0.00000000e+00],\n",
       "       [1.46444794e-02, 3.27590826e-07, 7.31568288e-08, ...,\n",
       "        4.14689673e-05, 0.00000000e+00, 0.00000000e+00]])"
      ]
     },
     "execution_count": 75,
     "metadata": {},
     "output_type": "execute_result"
    }
   ],
   "source": [
    "data1"
   ]
  },
  {
   "cell_type": "code",
   "execution_count": 77,
   "metadata": {},
   "outputs": [],
   "source": [
    "from imblearn.combine import SMOTETomek, SMOTEENN\n",
    "\n",
    "# Resampling the minority class. The strategy can be changed as required.\n",
    "smt = SMOTEENN(random_state=42,sampling_strategy='minority' )\n",
    "# Fit the model to generate the data.\n",
    "X_res, y_res = smt.fit_resample(data1, y)"
   ]
  },
  {
   "cell_type": "code",
   "execution_count": 78,
   "metadata": {},
   "outputs": [
    {
     "data": {
      "text/plain": [
       "((93026, 163), (23257, 163))"
      ]
     },
     "execution_count": 78,
     "metadata": {},
     "output_type": "execute_result"
    }
   ],
   "source": [
    "# separate dataset into train and test\n",
    "X_train, X_test, y_train, y_test = train_test_split(X_res,y_res,test_size=0.2,random_state=42)\n",
    "X_train.shape, X_test.shape"
   ]
  },
  {
   "cell_type": "code",
   "execution_count": 79,
   "metadata": {
    "scrolled": false
   },
   "outputs": [
    {
     "name": "stdout",
     "output_type": "stream",
     "text": [
      "Random Forest\n",
      "Model performance for Training set\n",
      "- Accuracy: 1.0000\n",
      "- F1 score: 1.0000\n",
      "- Precision: 1.0000\n",
      "- Recall: 1.0000\n",
      "- Roc Auc Score: 1.0000\n",
      "- COST: 0.\n",
      "----------------------------------\n",
      "Model performance for Test set\n",
      "- Accuracy: 0.9975\n",
      "- F1 score: 0.9976\n",
      "- Precision: 0.9956\n",
      "- Recall: 0.9995\n",
      "- Roc Auc Score: 0.9975\n",
      "- COST: 3510.\n",
      "===================================\n",
      "\n",
      "\n",
      "Decision Tree\n",
      "Model performance for Training set\n",
      "- Accuracy: 1.0000\n",
      "- F1 score: 1.0000\n",
      "- Precision: 1.0000\n",
      "- Recall: 1.0000\n",
      "- Roc Auc Score: 1.0000\n",
      "- COST: 0.\n",
      "----------------------------------\n",
      "Model performance for Test set\n",
      "- Accuracy: 0.9930\n",
      "- F1 score: 0.9930\n",
      "- Precision: 0.9905\n",
      "- Recall: 0.9955\n",
      "- Roc Auc Score: 0.9930\n",
      "- COST: 27110.\n",
      "===================================\n",
      "\n",
      "\n",
      "Gradient Boosting\n",
      "Model performance for Training set\n",
      "- Accuracy: 0.9876\n",
      "- F1 score: 0.9878\n",
      "- Precision: 0.9870\n",
      "- Recall: 0.9887\n",
      "- Roc Auc Score: 0.9876\n",
      "- COST: 273650.\n",
      "----------------------------------\n",
      "Model performance for Test set\n",
      "- Accuracy: 0.9856\n",
      "- F1 score: 0.9856\n",
      "- Precision: 0.9847\n",
      "- Recall: 0.9866\n",
      "- Roc Auc Score: 0.9856\n",
      "- COST: 79790.\n",
      "===================================\n",
      "\n",
      "\n",
      "Logistic Regression\n",
      "Model performance for Training set\n",
      "- Accuracy: 0.9635\n",
      "- F1 score: 0.9634\n",
      "- Precision: 0.9823\n",
      "- Recall: 0.9452\n",
      "- Roc Auc Score: 0.9638\n",
      "- COST: 1303070.\n",
      "----------------------------------\n",
      "Model performance for Test set\n",
      "- Accuracy: 0.9635\n",
      "- F1 score: 0.9630\n",
      "- Precision: 0.9803\n",
      "- Recall: 0.9462\n",
      "- Roc Auc Score: 0.9636\n",
      "- COST: 315220.\n",
      "===================================\n",
      "\n",
      "\n",
      "K-Neighbors Classifier\n",
      "Model performance for Training set\n",
      "- Accuracy: 0.9983\n",
      "- F1 score: 0.9984\n",
      "- Precision: 0.9969\n",
      "- Recall: 0.9999\n",
      "- Roc Auc Score: 0.9983\n",
      "- COST: 4490.\n",
      "----------------------------------\n",
      "Model performance for Test set\n",
      "- Accuracy: 0.9966\n",
      "- F1 score: 0.9966\n",
      "- Precision: 0.9939\n",
      "- Recall: 0.9993\n",
      "- Roc Auc Score: 0.9966\n",
      "- COST: 4720.\n",
      "===================================\n",
      "\n",
      "\n",
      "XGBClassifier\n",
      "Model performance for Training set\n",
      "- Accuracy: 1.0000\n",
      "- F1 score: 1.0000\n",
      "- Precision: 1.0000\n",
      "- Recall: 1.0000\n",
      "- Roc Auc Score: 1.0000\n",
      "- COST: 0.\n",
      "----------------------------------\n",
      "Model performance for Test set\n",
      "- Accuracy: 0.9987\n",
      "- F1 score: 0.9987\n",
      "- Precision: 0.9979\n",
      "- Recall: 0.9995\n",
      "- Roc Auc Score: 0.9987\n",
      "- COST: 3250.\n",
      "===================================\n",
      "\n",
      "\n",
      "CatBoosting Classifier\n",
      "Model performance for Training set\n",
      "- Accuracy: 0.9997\n",
      "- F1 score: 0.9997\n",
      "- Precision: 0.9996\n",
      "- Recall: 0.9997\n",
      "- Roc Auc Score: 0.9997\n",
      "- COST: 6670.\n",
      "----------------------------------\n",
      "Model performance for Test set\n",
      "- Accuracy: 0.9979\n",
      "- F1 score: 0.9979\n",
      "- Precision: 0.9967\n",
      "- Recall: 0.9991\n",
      "- Roc Auc Score: 0.9979\n",
      "- COST: 5390.\n",
      "===================================\n",
      "\n",
      "\n",
      "Support Vector Classifier\n",
      "Model performance for Training set\n",
      "- Accuracy: 0.9788\n",
      "- F1 score: 0.9789\n",
      "- Precision: 0.9894\n",
      "- Recall: 0.9686\n",
      "- Roc Auc Score: 0.9790\n",
      "- COST: 745890.\n",
      "----------------------------------\n",
      "Model performance for Test set\n",
      "- Accuracy: 0.9793\n",
      "- F1 score: 0.9792\n",
      "- Precision: 0.9884\n",
      "- Recall: 0.9701\n",
      "- Roc Auc Score: 0.9793\n",
      "- COST: 175330.\n",
      "===================================\n",
      "\n",
      "\n",
      "AdaBoost Classifier\n",
      "Model performance for Training set\n",
      "- Accuracy: 0.9775\n",
      "- F1 score: 0.9778\n",
      "- Precision: 0.9817\n",
      "- Recall: 0.9739\n",
      "- Roc Auc Score: 0.9776\n",
      "- COST: 625080.\n",
      "----------------------------------\n",
      "Model performance for Test set\n",
      "- Accuracy: 0.9756\n",
      "- F1 score: 0.9755\n",
      "- Precision: 0.9792\n",
      "- Recall: 0.9718\n",
      "- Roc Auc Score: 0.9756\n",
      "- COST: 166400.\n",
      "===================================\n",
      "\n",
      "\n"
     ]
    }
   ],
   "source": [
    "models = {\n",
    "    \"Random Forest\": RandomForestClassifier(),\n",
    "    \"Decision Tree\": DecisionTreeClassifier(),\n",
    "    \"Gradient Boosting\": GradientBoostingClassifier(),\n",
    "    \"Logistic Regression\": LogisticRegression(),\n",
    "     \"K-Neighbors Classifier\": KNeighborsClassifier(),\n",
    "    \"XGBClassifier\": XGBClassifier(), \n",
    "     \"CatBoosting Classifier\": CatBoostClassifier(verbose=False),\n",
    "     \"Support Vector Classifier\": SVC(),\n",
    "    \"AdaBoost Classifier\": AdaBoostClassifier()\n",
    "}\n",
    "\n",
    "accuracy_list=[]\n",
    "models_list = []\n",
    "\n",
    "for i in range(len(list(models))):\n",
    "    model = list(models.values())[i]\n",
    "    model.fit(X_train, y_train) # Train model\n",
    "\n",
    "    # Make predictions\n",
    "    y_train_pred = model.predict(X_train)\n",
    "    y_test_pred = model.predict(X_test)\n",
    "\n",
    "    # Training set performance\n",
    "    model_train_accuracy, model_train_f1,model_train_precision,\\\n",
    "    model_train_recall,model_train_rocauc_score=evaluate_clf(y_train ,y_train_pred)\n",
    "    train_cost = total_cost(y_train, y_train_pred)\n",
    "\n",
    "\n",
    "    # Test set performance\n",
    "    model_test_accuracy,model_test_f1,model_test_precision,\\\n",
    "    model_test_recall,model_test_rocauc_score=evaluate_clf(y_test, y_test_pred)\n",
    "    test_cost = total_cost(y_test, y_test_pred)\n",
    "\n",
    "    print(list(models.keys())[i])\n",
    "    models_list.append(list(models.keys())[i])\n",
    "    \n",
    "    print('Model performance for Training set')\n",
    "    print(\"- Accuracy: {:.4f}\".format(model_train_accuracy))\n",
    "    print('- F1 score: {:.4f}'.format(model_train_f1)) \n",
    "    print('- Precision: {:.4f}'.format(model_train_precision))\n",
    "    print('- Recall: {:.4f}'.format(model_train_recall))\n",
    "    print('- Roc Auc Score: {:.4f}'.format(model_train_rocauc_score))\n",
    "    print(f'- COST: {train_cost}.')\n",
    "\n",
    "    \n",
    "    print('----------------------------------')\n",
    "    \n",
    "    print('Model performance for Test set')\n",
    "    print('- Accuracy: {:.4f}'.format(model_test_accuracy))\n",
    "    print('- F1 score: {:.4f}'.format(model_test_f1))\n",
    "    print('- Precision: {:.4f}'.format(model_test_precision))\n",
    "    print('- Recall: {:.4f}'.format(model_test_recall))\n",
    "    print('- Roc Auc Score: {:.4f}'.format(model_test_rocauc_score))\n",
    "    print(f'- COST: {test_cost}.')\n",
    "\n",
    "    accuracy_list.append(test_cost)\n",
    "\n",
    "\n",
    "    print('='*35)\n",
    "    print('\\n')"
   ]
  },
  {
   "cell_type": "code",
   "execution_count": 82,
   "metadata": {},
   "outputs": [
    {
     "data": {
      "text/html": [
       "<div>\n",
       "<style scoped>\n",
       "    .dataframe tbody tr th:only-of-type {\n",
       "        vertical-align: middle;\n",
       "    }\n",
       "\n",
       "    .dataframe tbody tr th {\n",
       "        vertical-align: top;\n",
       "    }\n",
       "\n",
       "    .dataframe thead th {\n",
       "        text-align: right;\n",
       "    }\n",
       "</style>\n",
       "<table border=\"1\" class=\"dataframe\">\n",
       "  <thead>\n",
       "    <tr style=\"text-align: right;\">\n",
       "      <th></th>\n",
       "      <th>Model Name</th>\n",
       "      <th>Cost</th>\n",
       "    </tr>\n",
       "  </thead>\n",
       "  <tbody>\n",
       "    <tr>\n",
       "      <th>5</th>\n",
       "      <td>XGBClassifier</td>\n",
       "      <td>3250</td>\n",
       "    </tr>\n",
       "    <tr>\n",
       "      <th>0</th>\n",
       "      <td>Random Forest</td>\n",
       "      <td>3510</td>\n",
       "    </tr>\n",
       "    <tr>\n",
       "      <th>4</th>\n",
       "      <td>K-Neighbors Classifier</td>\n",
       "      <td>4720</td>\n",
       "    </tr>\n",
       "    <tr>\n",
       "      <th>6</th>\n",
       "      <td>CatBoosting Classifier</td>\n",
       "      <td>5390</td>\n",
       "    </tr>\n",
       "    <tr>\n",
       "      <th>1</th>\n",
       "      <td>Decision Tree</td>\n",
       "      <td>27110</td>\n",
       "    </tr>\n",
       "    <tr>\n",
       "      <th>2</th>\n",
       "      <td>Gradient Boosting</td>\n",
       "      <td>79790</td>\n",
       "    </tr>\n",
       "    <tr>\n",
       "      <th>8</th>\n",
       "      <td>AdaBoost Classifier</td>\n",
       "      <td>166400</td>\n",
       "    </tr>\n",
       "    <tr>\n",
       "      <th>7</th>\n",
       "      <td>Support Vector Classifier</td>\n",
       "      <td>175330</td>\n",
       "    </tr>\n",
       "    <tr>\n",
       "      <th>3</th>\n",
       "      <td>Logistic Regression</td>\n",
       "      <td>315220</td>\n",
       "    </tr>\n",
       "  </tbody>\n",
       "</table>\n",
       "</div>"
      ],
      "text/plain": [
       "                  Model Name    Cost\n",
       "5              XGBClassifier    3250\n",
       "0              Random Forest    3510\n",
       "4     K-Neighbors Classifier    4720\n",
       "6     CatBoosting Classifier    5390\n",
       "1              Decision Tree   27110\n",
       "2          Gradient Boosting   79790\n",
       "8        AdaBoost Classifier  166400\n",
       "7  Support Vector Classifier  175330\n",
       "3        Logistic Regression  315220"
      ]
     },
     "execution_count": 82,
     "metadata": {},
     "output_type": "execute_result"
    }
   ],
   "source": [
    "pd.DataFrame(list(zip(models_list, accuracy_list)), columns=['Model Name', 'Cost']).sort_values(by=[\"Cost\"])"
   ]
  },
  {
   "cell_type": "markdown",
   "metadata": {},
   "source": [
    "## Mice forest"
   ]
  },
  {
   "cell_type": "code",
   "execution_count": 87,
   "metadata": {},
   "outputs": [],
   "source": [
    "import miceforest as mf\n",
    "\n",
    "data2 = X.copy()\n",
    "kernel = mf.ImputationKernel(\n",
    "  data2,\n",
    "  save_all_iterations=True,\n",
    "  random_state=1989\n",
    ")# Run the MICE algorithm for 3 iterations on each of the datasets\n",
    "kernel.mice(3)"
   ]
  },
  {
   "cell_type": "code",
   "execution_count": 91,
   "metadata": {},
   "outputs": [],
   "source": [
    "data2 = kernel.complete_data()"
   ]
  },
  {
   "cell_type": "code",
   "execution_count": 93,
   "metadata": {},
   "outputs": [],
   "source": [
    "from imblearn.combine import SMOTETomek, SMOTEENN\n",
    "\n",
    "# Resampling the minority class. The strategy can be changed as required.\n",
    "smt = SMOTEENN(random_state=42,sampling_strategy='minority' )\n",
    "# Fit the model to generate the data.\n",
    "X_res, y_res = smt.fit_resample(data2, y)"
   ]
  },
  {
   "cell_type": "code",
   "execution_count": 96,
   "metadata": {},
   "outputs": [],
   "source": [
    "minmax = MinMaxScaler()\n",
    "X_res = minmax.fit_transform(X_res)"
   ]
  },
  {
   "cell_type": "code",
   "execution_count": 97,
   "metadata": {},
   "outputs": [
    {
     "data": {
      "text/plain": [
       "((92733, 163), (23184, 163))"
      ]
     },
     "execution_count": 97,
     "metadata": {},
     "output_type": "execute_result"
    }
   ],
   "source": [
    "# separate dataset into train and test\n",
    "X_train, X_test, y_train, y_test = train_test_split(X_res,y_res,test_size=0.2,random_state=42)\n",
    "X_train.shape, X_test.shape"
   ]
  },
  {
   "cell_type": "code",
   "execution_count": 98,
   "metadata": {
    "scrolled": false
   },
   "outputs": [
    {
     "name": "stdout",
     "output_type": "stream",
     "text": [
      "Random Forest\n",
      "Model performance for Training set\n",
      "- Accuracy: 1.0000\n",
      "- F1 score: 1.0000\n",
      "- Precision: 1.0000\n",
      "- Recall: 1.0000\n",
      "- Roc Auc Score: 1.0000\n",
      "- COST: 0.\n",
      "----------------------------------\n",
      "Model performance for Test set\n",
      "- Accuracy: 0.9975\n",
      "- F1 score: 0.9975\n",
      "- Precision: 0.9957\n",
      "- Recall: 0.9992\n",
      "- Roc Auc Score: 0.9974\n",
      "- COST: 5000.\n",
      "===================================\n",
      "\n",
      "\n",
      "Decision Tree\n",
      "Model performance for Training set\n",
      "- Accuracy: 1.0000\n",
      "- F1 score: 1.0000\n",
      "- Precision: 1.0000\n",
      "- Recall: 1.0000\n",
      "- Roc Auc Score: 1.0000\n",
      "- COST: 0.\n",
      "----------------------------------\n",
      "Model performance for Test set\n",
      "- Accuracy: 0.9930\n",
      "- F1 score: 0.9930\n",
      "- Precision: 0.9911\n",
      "- Recall: 0.9950\n",
      "- Roc Auc Score: 0.9930\n",
      "- COST: 30040.\n",
      "===================================\n",
      "\n",
      "\n",
      "Gradient Boosting\n",
      "Model performance for Training set\n",
      "- Accuracy: 0.9894\n",
      "- F1 score: 0.9896\n",
      "- Precision: 0.9885\n",
      "- Recall: 0.9907\n",
      "- Roc Auc Score: 0.9894\n",
      "- COST: 224430.\n",
      "----------------------------------\n",
      "Model performance for Test set\n",
      "- Accuracy: 0.9881\n",
      "- F1 score: 0.9882\n",
      "- Precision: 0.9877\n",
      "- Recall: 0.9887\n",
      "- Roc Auc Score: 0.9881\n",
      "- COST: 67430.\n",
      "===================================\n",
      "\n",
      "\n",
      "Logistic Regression\n",
      "Model performance for Training set\n",
      "- Accuracy: 0.9682\n",
      "- F1 score: 0.9683\n",
      "- Precision: 0.9835\n",
      "- Recall: 0.9536\n",
      "- Roc Auc Score: 0.9685\n",
      "- COST: 1105080.\n",
      "----------------------------------\n",
      "Model performance for Test set\n",
      "- Accuracy: 0.9689\n",
      "- F1 score: 0.9685\n",
      "- Precision: 0.9842\n",
      "- Recall: 0.9533\n",
      "- Roc Auc Score: 0.9690\n",
      "- COST: 273280.\n",
      "===================================\n",
      "\n",
      "\n",
      "K-Neighbors Classifier\n",
      "Model performance for Training set\n",
      "- Accuracy: 0.9935\n",
      "- F1 score: 0.9937\n",
      "- Precision: 0.9883\n",
      "- Recall: 0.9991\n",
      "- Roc Auc Score: 0.9934\n",
      "- COST: 26080.\n",
      "----------------------------------\n",
      "Model performance for Test set\n",
      "- Accuracy: 0.9909\n",
      "- F1 score: 0.9910\n",
      "- Precision: 0.9837\n",
      "- Recall: 0.9985\n",
      "- Roc Auc Score: 0.9909\n",
      "- COST: 10920.\n",
      "===================================\n",
      "\n",
      "\n",
      "XGBClassifier\n",
      "Model performance for Training set\n",
      "- Accuracy: 1.0000\n",
      "- F1 score: 1.0000\n",
      "- Precision: 1.0000\n",
      "- Recall: 1.0000\n",
      "- Roc Auc Score: 1.0000\n",
      "- COST: 0.\n",
      "----------------------------------\n",
      "Model performance for Test set\n",
      "- Accuracy: 0.9984\n",
      "- F1 score: 0.9984\n",
      "- Precision: 0.9976\n",
      "- Recall: 0.9992\n",
      "- Roc Auc Score: 0.9984\n",
      "- COST: 4780.\n",
      "===================================\n",
      "\n",
      "\n",
      "CatBoosting Classifier\n",
      "Model performance for Training set\n",
      "- Accuracy: 0.9994\n",
      "- F1 score: 0.9994\n",
      "- Precision: 0.9992\n",
      "- Recall: 0.9996\n",
      "- Roc Auc Score: 0.9994\n",
      "- COST: 9370.\n",
      "----------------------------------\n",
      "Model performance for Test set\n",
      "- Accuracy: 0.9973\n",
      "- F1 score: 0.9973\n",
      "- Precision: 0.9961\n",
      "- Recall: 0.9986\n",
      "- Roc Auc Score: 0.9973\n",
      "- COST: 8460.\n",
      "===================================\n",
      "\n",
      "\n",
      "Support Vector Classifier\n",
      "Model performance for Training set\n",
      "- Accuracy: 0.9825\n",
      "- F1 score: 0.9828\n",
      "- Precision: 0.9877\n",
      "- Recall: 0.9779\n",
      "- Roc Auc Score: 0.9826\n",
      "- COST: 528740.\n",
      "----------------------------------\n",
      "Model performance for Test set\n",
      "- Accuracy: 0.9829\n",
      "- F1 score: 0.9829\n",
      "- Precision: 0.9883\n",
      "- Recall: 0.9776\n",
      "- Roc Auc Score: 0.9829\n",
      "- COST: 131850.\n",
      "===================================\n",
      "\n",
      "\n",
      "AdaBoost Classifier\n",
      "Model performance for Training set\n",
      "- Accuracy: 0.9818\n",
      "- F1 score: 0.9821\n",
      "- Precision: 0.9862\n",
      "- Recall: 0.9780\n",
      "- Roc Auc Score: 0.9819\n",
      "- COST: 527480.\n",
      "----------------------------------\n",
      "Model performance for Test set\n",
      "- Accuracy: 0.9812\n",
      "- F1 score: 0.9812\n",
      "- Precision: 0.9855\n",
      "- Recall: 0.9769\n",
      "- Roc Auc Score: 0.9812\n",
      "- COST: 136170.\n",
      "===================================\n",
      "\n",
      "\n"
     ]
    }
   ],
   "source": [
    "models = {\n",
    "    \"Random Forest\": RandomForestClassifier(),\n",
    "    \"Decision Tree\": DecisionTreeClassifier(),\n",
    "    \"Gradient Boosting\": GradientBoostingClassifier(),\n",
    "    \"Logistic Regression\": LogisticRegression(),\n",
    "     \"K-Neighbors Classifier\": KNeighborsClassifier(),\n",
    "    \"XGBClassifier\": XGBClassifier(), \n",
    "     \"CatBoosting Classifier\": CatBoostClassifier(verbose=False),\n",
    "     \"Support Vector Classifier\": SVC(),\n",
    "    \"AdaBoost Classifier\": AdaBoostClassifier()\n",
    "}\n",
    "\n",
    "accuracy_list=[]\n",
    "models_list = []\n",
    "\n",
    "for i in range(len(list(models))):\n",
    "    model = list(models.values())[i]\n",
    "    model.fit(X_train, y_train) # Train model\n",
    "\n",
    "    # Make predictions\n",
    "    y_train_pred = model.predict(X_train)\n",
    "    y_test_pred = model.predict(X_test)\n",
    "\n",
    "    # Training set performance\n",
    "    model_train_accuracy, model_train_f1,model_train_precision,\\\n",
    "    model_train_recall,model_train_rocauc_score=evaluate_clf(y_train ,y_train_pred)\n",
    "    train_cost = total_cost(y_train, y_train_pred)\n",
    "\n",
    "\n",
    "    # Test set performance\n",
    "    model_test_accuracy,model_test_f1,model_test_precision,\\\n",
    "    model_test_recall,model_test_rocauc_score=evaluate_clf(y_test, y_test_pred)\n",
    "    test_cost = total_cost(y_test, y_test_pred)\n",
    "\n",
    "    print(list(models.keys())[i])\n",
    "    models_list.append(list(models.keys())[i])\n",
    "    \n",
    "    print('Model performance for Training set')\n",
    "    print(\"- Accuracy: {:.4f}\".format(model_train_accuracy))\n",
    "    print('- F1 score: {:.4f}'.format(model_train_f1)) \n",
    "    print('- Precision: {:.4f}'.format(model_train_precision))\n",
    "    print('- Recall: {:.4f}'.format(model_train_recall))\n",
    "    print('- Roc Auc Score: {:.4f}'.format(model_train_rocauc_score))\n",
    "    print(f'- COST: {train_cost}.')\n",
    "\n",
    "    \n",
    "    print('----------------------------------')\n",
    "    \n",
    "    print('Model performance for Test set')\n",
    "    print('- Accuracy: {:.4f}'.format(model_test_accuracy))\n",
    "    print('- F1 score: {:.4f}'.format(model_test_f1))\n",
    "    print('- Precision: {:.4f}'.format(model_test_precision))\n",
    "    print('- Recall: {:.4f}'.format(model_test_recall))\n",
    "    print('- Roc Auc Score: {:.4f}'.format(model_test_rocauc_score))\n",
    "    print(f'- COST: {test_cost}.')\n",
    "\n",
    "    accuracy_list.append(test_cost)\n",
    "\n",
    "\n",
    "    print('='*35)\n",
    "    print('\\n')"
   ]
  },
  {
   "cell_type": "code",
   "execution_count": 99,
   "metadata": {},
   "outputs": [
    {
     "data": {
      "text/html": [
       "<div>\n",
       "<style scoped>\n",
       "    .dataframe tbody tr th:only-of-type {\n",
       "        vertical-align: middle;\n",
       "    }\n",
       "\n",
       "    .dataframe tbody tr th {\n",
       "        vertical-align: top;\n",
       "    }\n",
       "\n",
       "    .dataframe thead th {\n",
       "        text-align: right;\n",
       "    }\n",
       "</style>\n",
       "<table border=\"1\" class=\"dataframe\">\n",
       "  <thead>\n",
       "    <tr style=\"text-align: right;\">\n",
       "      <th></th>\n",
       "      <th>Model Name</th>\n",
       "      <th>Cost</th>\n",
       "    </tr>\n",
       "  </thead>\n",
       "  <tbody>\n",
       "    <tr>\n",
       "      <th>5</th>\n",
       "      <td>XGBClassifier</td>\n",
       "      <td>4780</td>\n",
       "    </tr>\n",
       "    <tr>\n",
       "      <th>0</th>\n",
       "      <td>Random Forest</td>\n",
       "      <td>5000</td>\n",
       "    </tr>\n",
       "    <tr>\n",
       "      <th>6</th>\n",
       "      <td>CatBoosting Classifier</td>\n",
       "      <td>8460</td>\n",
       "    </tr>\n",
       "    <tr>\n",
       "      <th>4</th>\n",
       "      <td>K-Neighbors Classifier</td>\n",
       "      <td>10920</td>\n",
       "    </tr>\n",
       "    <tr>\n",
       "      <th>1</th>\n",
       "      <td>Decision Tree</td>\n",
       "      <td>30040</td>\n",
       "    </tr>\n",
       "    <tr>\n",
       "      <th>2</th>\n",
       "      <td>Gradient Boosting</td>\n",
       "      <td>67430</td>\n",
       "    </tr>\n",
       "    <tr>\n",
       "      <th>7</th>\n",
       "      <td>Support Vector Classifier</td>\n",
       "      <td>131850</td>\n",
       "    </tr>\n",
       "    <tr>\n",
       "      <th>8</th>\n",
       "      <td>AdaBoost Classifier</td>\n",
       "      <td>136170</td>\n",
       "    </tr>\n",
       "    <tr>\n",
       "      <th>3</th>\n",
       "      <td>Logistic Regression</td>\n",
       "      <td>273280</td>\n",
       "    </tr>\n",
       "  </tbody>\n",
       "</table>\n",
       "</div>"
      ],
      "text/plain": [
       "                  Model Name    Cost\n",
       "5              XGBClassifier    4780\n",
       "0              Random Forest    5000\n",
       "6     CatBoosting Classifier    8460\n",
       "4     K-Neighbors Classifier   10920\n",
       "1              Decision Tree   30040\n",
       "2          Gradient Boosting   67430\n",
       "7  Support Vector Classifier  131850\n",
       "8        AdaBoost Classifier  136170\n",
       "3        Logistic Regression  273280"
      ]
     },
     "execution_count": 99,
     "metadata": {},
     "output_type": "execute_result"
    }
   ],
   "source": [
    "pd.DataFrame(list(zip(models_list, accuracy_list)), columns=['Model Name', 'Cost']).sort_values(by=[\"Cost\"])"
   ]
  },
  {
   "cell_type": "markdown",
   "metadata": {},
   "source": [
    "## Simple CONSTANT"
   ]
  },
  {
   "cell_type": "code",
   "execution_count": 101,
   "metadata": {},
   "outputs": [],
   "source": [
    "num_features = X.select_dtypes(exclude=\"object\").columns\n",
    "\n",
    "from sklearn.preprocessing import StandardScaler, MinMaxScaler\n",
    "from sklearn.compose import ColumnTransformer\n",
    "\n",
    "\n",
    "pipeline = Pipeline(steps=[\n",
    "    ('imputer', SimpleImputer(strategy='constant', fill_value=0)),\n",
    "    ('scaler', MinMaxScaler())\n",
    "])"
   ]
  },
  {
   "cell_type": "code",
   "execution_count": 102,
   "metadata": {},
   "outputs": [],
   "source": [
    "data3 =pipeline.fit_transform(X)"
   ]
  },
  {
   "cell_type": "code",
   "execution_count": 104,
   "metadata": {},
   "outputs": [],
   "source": [
    "from imblearn.combine import SMOTETomek, SMOTEENN\n",
    "\n",
    "# Resampling the minority class. The strategy can be changed as required.\n",
    "smt = SMOTETomek(random_state=42,sampling_strategy='minority' )\n",
    "# Fit the model to generate the data.\n",
    "X_res, y_res = smt.fit_resample(data3, y)"
   ]
  },
  {
   "cell_type": "code",
   "execution_count": 105,
   "metadata": {},
   "outputs": [
    {
     "data": {
      "text/plain": [
       "((94374, 163), (23594, 163))"
      ]
     },
     "execution_count": 105,
     "metadata": {},
     "output_type": "execute_result"
    }
   ],
   "source": [
    "# separate dataset into train and test\n",
    "X_train, X_test, y_train, y_test = train_test_split(X_res,y_res,test_size=0.2,random_state=42)\n",
    "X_train.shape, X_test.shape"
   ]
  },
  {
   "cell_type": "code",
   "execution_count": 106,
   "metadata": {
    "scrolled": false
   },
   "outputs": [
    {
     "name": "stdout",
     "output_type": "stream",
     "text": [
      "Random Forest\n",
      "Model performance for Training set\n",
      "- Accuracy: 1.0000\n",
      "- F1 score: 1.0000\n",
      "- Precision: 1.0000\n",
      "- Recall: 1.0000\n",
      "- Roc Auc Score: 1.0000\n",
      "- COST: 0.\n",
      "----------------------------------\n",
      "Model performance for Test set\n",
      "- Accuracy: 0.9960\n",
      "- F1 score: 0.9960\n",
      "- Precision: 0.9930\n",
      "- Recall: 0.9990\n",
      "- Roc Auc Score: 0.9961\n",
      "- COST: 6820.\n",
      "===================================\n",
      "\n",
      "\n",
      "Decision Tree\n",
      "Model performance for Training set\n",
      "- Accuracy: 1.0000\n",
      "- F1 score: 1.0000\n",
      "- Precision: 1.0000\n",
      "- Recall: 1.0000\n",
      "- Roc Auc Score: 1.0000\n",
      "- COST: 0.\n",
      "----------------------------------\n",
      "Model performance for Test set\n",
      "- Accuracy: 0.9909\n",
      "- F1 score: 0.9908\n",
      "- Precision: 0.9873\n",
      "- Recall: 0.9944\n",
      "- Roc Auc Score: 0.9910\n",
      "- COST: 33990.\n",
      "===================================\n",
      "\n",
      "\n",
      "Gradient Boosting\n",
      "Model performance for Training set\n",
      "- Accuracy: 0.9831\n",
      "- F1 score: 0.9832\n",
      "- Precision: 0.9797\n",
      "- Recall: 0.9867\n",
      "- Roc Auc Score: 0.9831\n",
      "- COST: 324670.\n",
      "----------------------------------\n",
      "Model performance for Test set\n",
      "- Accuracy: 0.9805\n",
      "- F1 score: 0.9804\n",
      "- Precision: 0.9753\n",
      "- Recall: 0.9855\n",
      "- Roc Auc Score: 0.9806\n",
      "- COST: 87400.\n",
      "===================================\n",
      "\n",
      "\n",
      "Logistic Regression\n",
      "Model performance for Training set\n",
      "- Accuracy: 0.9567\n",
      "- F1 score: 0.9561\n",
      "- Precision: 0.9724\n",
      "- Recall: 0.9403\n",
      "- Roc Auc Score: 0.9567\n",
      "- COST: 1426630.\n",
      "----------------------------------\n",
      "Model performance for Test set\n",
      "- Accuracy: 0.9558\n",
      "- F1 score: 0.9544\n",
      "- Precision: 0.9718\n",
      "- Recall: 0.9377\n",
      "- Roc Auc Score: 0.9556\n",
      "- COST: 365670.\n",
      "===================================\n",
      "\n",
      "\n",
      "K-Neighbors Classifier\n",
      "Model performance for Training set\n",
      "- Accuracy: 0.9897\n",
      "- F1 score: 0.9898\n",
      "- Precision: 0.9808\n",
      "- Recall: 0.9990\n",
      "- Roc Auc Score: 0.9897\n",
      "- COST: 32250.\n",
      "----------------------------------\n",
      "Model performance for Test set\n",
      "- Accuracy: 0.9846\n",
      "- F1 score: 0.9846\n",
      "- Precision: 0.9715\n",
      "- Recall: 0.9980\n",
      "- Roc Auc Score: 0.9848\n",
      "- COST: 14900.\n",
      "===================================\n",
      "\n",
      "\n",
      "XGBClassifier\n",
      "Model performance for Training set\n",
      "- Accuracy: 1.0000\n",
      "- F1 score: 1.0000\n",
      "- Precision: 1.0000\n",
      "- Recall: 1.0000\n",
      "- Roc Auc Score: 1.0000\n",
      "- COST: 500.\n",
      "----------------------------------\n",
      "Model performance for Test set\n",
      "- Accuracy: 0.9967\n",
      "- F1 score: 0.9966\n",
      "- Precision: 0.9939\n",
      "- Recall: 0.9993\n",
      "- Roc Auc Score: 0.9967\n",
      "- COST: 4710.\n",
      "===================================\n",
      "\n",
      "\n",
      "CatBoosting Classifier\n",
      "Model performance for Training set\n",
      "- Accuracy: 0.9989\n",
      "- F1 score: 0.9989\n",
      "- Precision: 0.9983\n",
      "- Recall: 0.9995\n",
      "- Roc Auc Score: 0.9989\n",
      "- COST: 13310.\n",
      "----------------------------------\n",
      "Model performance for Test set\n",
      "- Accuracy: 0.9958\n",
      "- F1 score: 0.9957\n",
      "- Precision: 0.9926\n",
      "- Recall: 0.9989\n",
      "- Roc Auc Score: 0.9958\n",
      "- COST: 7370.\n",
      "===================================\n",
      "\n",
      "\n",
      "Support Vector Classifier\n",
      "Model performance for Training set\n",
      "- Accuracy: 0.9717\n",
      "- F1 score: 0.9716\n",
      "- Precision: 0.9791\n",
      "- Recall: 0.9642\n",
      "- Roc Auc Score: 0.9718\n",
      "- COST: 856240.\n",
      "----------------------------------\n",
      "Model performance for Test set\n",
      "- Accuracy: 0.9706\n",
      "- F1 score: 0.9700\n",
      "- Precision: 0.9766\n",
      "- Recall: 0.9635\n",
      "- Roc Auc Score: 0.9705\n",
      "- COST: 215180.\n",
      "===================================\n",
      "\n",
      "\n",
      "AdaBoost Classifier\n",
      "Model performance for Training set\n",
      "- Accuracy: 0.9743\n",
      "- F1 score: 0.9744\n",
      "- Precision: 0.9751\n",
      "- Recall: 0.9737\n",
      "- Roc Auc Score: 0.9743\n",
      "- COST: 633290.\n",
      "----------------------------------\n",
      "Model performance for Test set\n",
      "- Accuracy: 0.9722\n",
      "- F1 score: 0.9718\n",
      "- Precision: 0.9716\n",
      "- Recall: 0.9720\n",
      "- Roc Auc Score: 0.9722\n",
      "- COST: 166310.\n",
      "===================================\n",
      "\n",
      "\n"
     ]
    }
   ],
   "source": [
    "models = {\n",
    "    \"Random Forest\": RandomForestClassifier(),\n",
    "    \"Decision Tree\": DecisionTreeClassifier(),\n",
    "    \"Gradient Boosting\": GradientBoostingClassifier(),\n",
    "    \"Logistic Regression\": LogisticRegression(),\n",
    "     \"K-Neighbors Classifier\": KNeighborsClassifier(),\n",
    "    \"XGBClassifier\": XGBClassifier(), \n",
    "     \"CatBoosting Classifier\": CatBoostClassifier(verbose=False),\n",
    "     \"Support Vector Classifier\": SVC(),\n",
    "    \"AdaBoost Classifier\": AdaBoostClassifier()\n",
    "}\n",
    "\n",
    "accuracy_list=[]\n",
    "models_list = []\n",
    "\n",
    "for i in range(len(list(models))):\n",
    "    model = list(models.values())[i]\n",
    "    model.fit(X_train, y_train) # Train model\n",
    "\n",
    "    # Make predictions\n",
    "    y_train_pred = model.predict(X_train)\n",
    "    y_test_pred = model.predict(X_test)\n",
    "\n",
    "    # Training set performance\n",
    "    model_train_accuracy, model_train_f1,model_train_precision,\\\n",
    "    model_train_recall,model_train_rocauc_score=evaluate_clf(y_train ,y_train_pred)\n",
    "    train_cost = total_cost(y_train, y_train_pred)\n",
    "\n",
    "\n",
    "    # Test set performance\n",
    "    model_test_accuracy,model_test_f1,model_test_precision,\\\n",
    "    model_test_recall,model_test_rocauc_score=evaluate_clf(y_test, y_test_pred)\n",
    "    test_cost = total_cost(y_test, y_test_pred)\n",
    "\n",
    "    print(list(models.keys())[i])\n",
    "    models_list.append(list(models.keys())[i])\n",
    "    \n",
    "    print('Model performance for Training set')\n",
    "    print(\"- Accuracy: {:.4f}\".format(model_train_accuracy))\n",
    "    print('- F1 score: {:.4f}'.format(model_train_f1)) \n",
    "    print('- Precision: {:.4f}'.format(model_train_precision))\n",
    "    print('- Recall: {:.4f}'.format(model_train_recall))\n",
    "    print('- Roc Auc Score: {:.4f}'.format(model_train_rocauc_score))\n",
    "    print(f'- COST: {train_cost}.')\n",
    "\n",
    "    \n",
    "    print('----------------------------------')\n",
    "    \n",
    "    print('Model performance for Test set')\n",
    "    print('- Accuracy: {:.4f}'.format(model_test_accuracy))\n",
    "    print('- F1 score: {:.4f}'.format(model_test_f1))\n",
    "    print('- Precision: {:.4f}'.format(model_test_precision))\n",
    "    print('- Recall: {:.4f}'.format(model_test_recall))\n",
    "    print('- Roc Auc Score: {:.4f}'.format(model_test_rocauc_score))\n",
    "    print(f'- COST: {test_cost}.')\n",
    "\n",
    "    accuracy_list.append(test_cost)\n",
    "\n",
    "\n",
    "    print('='*35)\n",
    "    print('\\n')"
   ]
  },
  {
   "cell_type": "code",
   "execution_count": 128,
   "metadata": {},
   "outputs": [],
   "source": [
    "num_features = X.select_dtypes(exclude=\"object\").columns\n",
    "\n",
    "from sklearn.preprocessing import StandardScaler, MinMaxScaler\n",
    "from sklearn.compose import ColumnTransformer\n",
    "\n",
    "\n",
    "pipeline = Pipeline(steps=[\n",
    "    ('imputer', SimpleImputer(strategy='mean')),\n",
    "    ('scaler', MinMaxScaler())\n",
    "])"
   ]
  },
  {
   "cell_type": "code",
   "execution_count": 129,
   "metadata": {},
   "outputs": [],
   "source": [
    "data4 = pipeline.fit_transform(X)"
   ]
  },
  {
   "cell_type": "code",
   "execution_count": 133,
   "metadata": {},
   "outputs": [],
   "source": [
    "from imblearn.combine import SMOTETomek, SMOTEENN\n",
    "\n",
    "# Resampling the minority class. The strategy can be changed as required.\n",
    "smt = SMOTETomek(random_state=42,sampling_strategy='minority' )\n",
    "# Fit the model to generate the data.\n",
    "X_res, y_res = smt.fit_resample(data4, y)"
   ]
  },
  {
   "cell_type": "code",
   "execution_count": 134,
   "metadata": {},
   "outputs": [
    {
     "data": {
      "text/plain": [
       "((94384, 163), (23596, 163))"
      ]
     },
     "execution_count": 134,
     "metadata": {},
     "output_type": "execute_result"
    }
   ],
   "source": [
    "# separate dataset into train and test\n",
    "X_train, X_test, y_train, y_test = train_test_split(X_res,y_res,test_size=0.2,random_state=42)\n",
    "X_train.shape, X_test.shape"
   ]
  },
  {
   "cell_type": "code",
   "execution_count": 135,
   "metadata": {
    "scrolled": false
   },
   "outputs": [
    {
     "name": "stdout",
     "output_type": "stream",
     "text": [
      "Random Forest\n",
      "Model performance for Training set\n",
      "- Accuracy: 1.0000\n",
      "- F1 score: 1.0000\n",
      "- Precision: 1.0000\n",
      "- Recall: 1.0000\n",
      "- Roc Auc Score: 1.0000\n",
      "- COST: 0.\n",
      "----------------------------------\n",
      "Model performance for Test set\n",
      "- Accuracy: 0.9970\n",
      "- F1 score: 0.9970\n",
      "- Precision: 0.9949\n",
      "- Recall: 0.9990\n",
      "- Roc Auc Score: 0.9970\n",
      "- COST: 6590.\n",
      "===================================\n",
      "\n",
      "\n",
      "Decision Tree\n",
      "Model performance for Training set\n",
      "- Accuracy: 1.0000\n",
      "- F1 score: 1.0000\n",
      "- Precision: 1.0000\n",
      "- Recall: 1.0000\n",
      "- Roc Auc Score: 1.0000\n",
      "- COST: 0.\n",
      "----------------------------------\n",
      "Model performance for Test set\n",
      "- Accuracy: 0.9927\n",
      "- F1 score: 0.9926\n",
      "- Precision: 0.9887\n",
      "- Recall: 0.9966\n",
      "- Roc Auc Score: 0.9928\n",
      "- COST: 21320.\n",
      "===================================\n",
      "\n",
      "\n",
      "Gradient Boosting\n",
      "Model performance for Training set\n",
      "- Accuracy: 0.9843\n",
      "- F1 score: 0.9844\n",
      "- Precision: 0.9817\n",
      "- Recall: 0.9871\n",
      "- Roc Auc Score: 0.9843\n",
      "- COST: 315210.\n",
      "----------------------------------\n",
      "Model performance for Test set\n",
      "- Accuracy: 0.9836\n",
      "- F1 score: 0.9833\n",
      "- Precision: 0.9809\n",
      "- Recall: 0.9858\n",
      "- Roc Auc Score: 0.9836\n",
      "- COST: 84730.\n",
      "===================================\n",
      "\n",
      "\n",
      "Logistic Regression\n",
      "Model performance for Training set\n",
      "- Accuracy: 0.9542\n",
      "- F1 score: 0.9535\n",
      "- Precision: 0.9712\n",
      "- Recall: 0.9365\n",
      "- Roc Auc Score: 0.9542\n",
      "- COST: 1516680.\n",
      "----------------------------------\n",
      "Model performance for Test set\n",
      "- Accuracy: 0.9538\n",
      "- F1 score: 0.9522\n",
      "- Precision: 0.9714\n",
      "- Recall: 0.9337\n",
      "- Roc Auc Score: 0.9535\n",
      "- COST: 388190.\n",
      "===================================\n",
      "\n",
      "\n",
      "K-Neighbors Classifier\n",
      "Model performance for Training set\n",
      "- Accuracy: 0.9893\n",
      "- F1 score: 0.9894\n",
      "- Precision: 0.9796\n",
      "- Recall: 0.9994\n",
      "- Roc Auc Score: 0.9892\n",
      "- COST: 23340.\n",
      "----------------------------------\n",
      "Model performance for Test set\n",
      "- Accuracy: 0.9853\n",
      "- F1 score: 0.9853\n",
      "- Precision: 0.9719\n",
      "- Recall: 0.9991\n",
      "- Roc Auc Score: 0.9855\n",
      "- COST: 8360.\n",
      "===================================\n",
      "\n",
      "\n",
      "XGBClassifier\n",
      "Model performance for Training set\n",
      "- Accuracy: 1.0000\n",
      "- F1 score: 1.0000\n",
      "- Precision: 1.0000\n",
      "- Recall: 1.0000\n",
      "- Roc Auc Score: 1.0000\n",
      "- COST: 0.\n",
      "----------------------------------\n",
      "Model performance for Test set\n",
      "- Accuracy: 0.9981\n",
      "- F1 score: 0.9981\n",
      "- Precision: 0.9969\n",
      "- Recall: 0.9993\n",
      "- Roc Auc Score: 0.9982\n",
      "- COST: 4360.\n",
      "===================================\n",
      "\n",
      "\n",
      "CatBoosting Classifier\n",
      "Model performance for Training set\n",
      "- Accuracy: 0.9995\n",
      "- F1 score: 0.9995\n",
      "- Precision: 0.9995\n",
      "- Recall: 0.9995\n",
      "- Roc Auc Score: 0.9995\n",
      "- COST: 11760.\n",
      "----------------------------------\n",
      "Model performance for Test set\n",
      "- Accuracy: 0.9976\n",
      "- F1 score: 0.9976\n",
      "- Precision: 0.9959\n",
      "- Recall: 0.9993\n",
      "- Roc Auc Score: 0.9977\n",
      "- COST: 4480.\n",
      "===================================\n",
      "\n",
      "\n",
      "Support Vector Classifier\n",
      "Model performance for Training set\n",
      "- Accuracy: 0.9737\n",
      "- F1 score: 0.9736\n",
      "- Precision: 0.9812\n",
      "- Recall: 0.9662\n",
      "- Roc Auc Score: 0.9738\n",
      "- COST: 810270.\n",
      "----------------------------------\n",
      "Model performance for Test set\n",
      "- Accuracy: 0.9745\n",
      "- F1 score: 0.9739\n",
      "- Precision: 0.9806\n",
      "- Recall: 0.9673\n",
      "- Roc Auc Score: 0.9744\n",
      "- COST: 192220.\n",
      "===================================\n",
      "\n",
      "\n",
      "AdaBoost Classifier\n",
      "Model performance for Training set\n",
      "- Accuracy: 0.9751\n",
      "- F1 score: 0.9752\n",
      "- Precision: 0.9740\n",
      "- Recall: 0.9764\n",
      "- Roc Auc Score: 0.9751\n",
      "- COST: 570830.\n",
      "----------------------------------\n",
      "Model performance for Test set\n",
      "- Accuracy: 0.9754\n",
      "- F1 score: 0.9751\n",
      "- Precision: 0.9741\n",
      "- Recall: 0.9761\n",
      "- Roc Auc Score: 0.9754\n",
      "- COST: 142020.\n",
      "===================================\n",
      "\n",
      "\n"
     ]
    }
   ],
   "source": [
    "models = {\n",
    "    \"Random Forest\": RandomForestClassifier(),\n",
    "    \"Decision Tree\": DecisionTreeClassifier(),\n",
    "    \"Gradient Boosting\": GradientBoostingClassifier(),\n",
    "    \"Logistic Regression\": LogisticRegression(),\n",
    "     \"K-Neighbors Classifier\": KNeighborsClassifier(),\n",
    "    \"XGBClassifier\": XGBClassifier(), \n",
    "     \"CatBoosting Classifier\": CatBoostClassifier(verbose=False),\n",
    "     \"Support Vector Classifier\": SVC(),\n",
    "    \"AdaBoost Classifier\": AdaBoostClassifier()\n",
    "}\n",
    "\n",
    "accuracy_list=[]\n",
    "models_list = []\n",
    "\n",
    "for i in range(len(list(models))):\n",
    "    model = list(models.values())[i]\n",
    "    model.fit(X_train, y_train) # Train model\n",
    "\n",
    "    # Make predictions\n",
    "    y_train_pred = model.predict(X_train)\n",
    "    y_test_pred = model.predict(X_test)\n",
    "\n",
    "    # Training set performance\n",
    "    model_train_accuracy, model_train_f1,model_train_precision,\\\n",
    "    model_train_recall,model_train_rocauc_score=evaluate_clf(y_train ,y_train_pred)\n",
    "    train_cost = total_cost(y_train, y_train_pred)\n",
    "\n",
    "\n",
    "    # Test set performance\n",
    "    model_test_accuracy,model_test_f1,model_test_precision,\\\n",
    "    model_test_recall,model_test_rocauc_score=evaluate_clf(y_test, y_test_pred)\n",
    "    test_cost = total_cost(y_test, y_test_pred)\n",
    "\n",
    "    print(list(models.keys())[i])\n",
    "    models_list.append(list(models.keys())[i])\n",
    "    \n",
    "    print('Model performance for Training set')\n",
    "    print(\"- Accuracy: {:.4f}\".format(model_train_accuracy))\n",
    "    print('- F1 score: {:.4f}'.format(model_train_f1)) \n",
    "    print('- Precision: {:.4f}'.format(model_train_precision))\n",
    "    print('- Recall: {:.4f}'.format(model_train_recall))\n",
    "    print('- Roc Auc Score: {:.4f}'.format(model_train_rocauc_score))\n",
    "    print(f'- COST: {train_cost}.')\n",
    "\n",
    "    \n",
    "    print('----------------------------------')\n",
    "    \n",
    "    print('Model performance for Test set')\n",
    "    print('- Accuracy: {:.4f}'.format(model_test_accuracy))\n",
    "    print('- F1 score: {:.4f}'.format(model_test_f1))\n",
    "    print('- Precision: {:.4f}'.format(model_test_precision))\n",
    "    print('- Recall: {:.4f}'.format(model_test_recall))\n",
    "    print('- Roc Auc Score: {:.4f}'.format(model_test_rocauc_score))\n",
    "    print(f'- COST: {test_cost}.')\n",
    "\n",
    "    accuracy_list.append(test_cost)\n",
    "\n",
    "\n",
    "    print('='*35)\n",
    "    print('\\n')"
   ]
  },
  {
   "cell_type": "markdown",
   "metadata": {},
   "source": [
    "## pca"
   ]
  },
  {
   "cell_type": "code",
   "execution_count": 111,
   "metadata": {},
   "outputs": [],
   "source": [
    "from sklearn.decomposition import PCA\n",
    "from sklearn.metrics import make_scorer"
   ]
  },
  {
   "cell_type": "code",
   "execution_count": 112,
   "metadata": {},
   "outputs": [],
   "source": [
    "def my_scorer(y_true,y_pred):\n",
    "    tn, fp, fn, tp = confusion_matrix(y_true, y_pred).ravel()\n",
    "    cost = 10*fp+500*fn\n",
    "    return cost\n",
    "\n",
    "my_func = make_scorer(my_scorer, greater_is_better=False)"
   ]
  },
  {
   "cell_type": "code",
   "execution_count": 130,
   "metadata": {},
   "outputs": [],
   "source": [
    "from imblearn.combine import SMOTETomek, SMOTEENN\n",
    "\n",
    "# Resampling the minority class. The strategy can be changed as required.\n",
    "smt = SMOTEENN(random_state=42,sampling_strategy='minority' )\n",
    "# Fit the model to generate the data.\n",
    "X_res, y_res = smt.fit_resample(data1, y)"
   ]
  },
  {
   "cell_type": "code",
   "execution_count": 131,
   "metadata": {
    "scrolled": false
   },
   "outputs": [
    {
     "name": "stdout",
     "output_type": "stream",
     "text": [
      "Fitting 3 folds for each of 90 candidates, totalling 270 fits\n"
     ]
    },
    {
     "data": {
      "text/plain": [
       "GridSearchCV(cv=3,\n",
       "             estimator=Pipeline(steps=[('pca', PCA()),\n",
       "                                       ('clf', LogisticRegression(n_jobs=-1))]),\n",
       "             n_jobs=-1, param_grid={'pca__n_components': range(10, 100)},\n",
       "             scoring=make_scorer(my_scorer, greater_is_better=False),\n",
       "             verbose=3)"
      ]
     },
     "execution_count": 131,
     "metadata": {},
     "output_type": "execute_result"
    }
   ],
   "source": [
    "from sklearn.svm import SVC\n",
    "from sklearn.decomposition import PCA\n",
    "from sklearn.pipeline import Pipeline\n",
    "from sklearn.model_selection import GridSearchCV\n",
    "\n",
    "clf = RandomForestClassifier(n_jobs=-1) # initialising SVC classifier\n",
    "pca = PCA() # initialising PCA component\n",
    "\n",
    "pipe = Pipeline(steps=[(\"pca\",pca), (\"clf\",clf)]) # creating pipeline\n",
    "\n",
    "# hyperparameters grid to be investigated\n",
    "param_grid = {\n",
    "    'pca__n_components': range(10,100),\n",
    "}\n",
    "\n",
    "search = GridSearchCV(pipe, param_grid, cv=3, return_train_score=False, scoring=my_func, n_jobs=-1, verbose=3) # Grid Search with 3-fold CV\n",
    "search.fit(X_res, y_res)"
   ]
  },
  {
   "cell_type": "code",
   "execution_count": 132,
   "metadata": {},
   "outputs": [
    {
     "name": "stdout",
     "output_type": "stream",
     "text": [
      "Best parameters (CV score: -554043.333):\n",
      "{'pca__n_components': 98}\n"
     ]
    }
   ],
   "source": [
    "# Plotting best classificator\n",
    "print(\"Best parameters (CV score: {:0.3f}):\".format(search.best_score_))\n",
    "print(search.best_params_)"
   ]
  },
  {
   "cell_type": "markdown",
   "metadata": {},
   "source": [
    "## Final Model"
   ]
  },
  {
   "cell_type": "code",
   "execution_count": null,
   "metadata": {},
   "outputs": [],
   "source": []
  }
 ],
 "metadata": {
  "kernelspec": {
   "display_name": "Python 3 (ipykernel)",
   "language": "python",
   "name": "python3"
  },
  "language_info": {
   "codemirror_mode": {
    "name": "ipython",
    "version": 3
   },
   "file_extension": ".py",
   "mimetype": "text/x-python",
   "name": "python",
   "nbconvert_exporter": "python",
   "pygments_lexer": "ipython3",
   "version": "3.9.12"
  },
  "vscode": {
   "interpreter": {
    "hash": "fe5057b33890e8dd303e21b19623a3798ffaa8a05dcdf7dd3a35472e2b83b2ee"
   }
  }
 },
 "nbformat": 4,
 "nbformat_minor": 2
}
